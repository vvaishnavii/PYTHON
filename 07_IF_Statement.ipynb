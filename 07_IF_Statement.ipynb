{
 "cells": [
  {
   "cell_type": "markdown",
   "metadata": {},
   "source": [
    "# <center>IF - Conditional Statement"
   ]
  },
  {
   "cell_type": "markdown",
   "metadata": {},
   "source": [
    "## SYNTAX:\n",
    "if condition:<br>\n",
    ".. statement<br>\n",
    "else:<br>\n",
    ".....statement"
   ]
  },
  {
   "cell_type": "code",
   "execution_count": 1,
   "metadata": {},
   "outputs": [
    {
     "name": "stdout",
     "output_type": "stream",
     "text": [
      "else\n"
     ]
    }
   ],
   "source": [
    "a = 20\n",
    "if a > 20:\n",
    "    print(\"IF\")\n",
    "elif a > 21:\n",
    "    print(\"ELIF\")\n",
    "else:\n",
    "    print(\"else\")\n"
   ]
  },
  {
   "cell_type": "code",
   "execution_count": 3,
   "metadata": {},
   "outputs": [
    {
     "name": "stdout",
     "output_type": "stream",
     "text": [
      "Found Vijay\n"
     ]
    }
   ],
   "source": [
    "list1 = [\"Ajay\", \"Vijay\", \"Ramesh\"]\n",
    "if \"Vijay\" in list1:\n",
    "    print(\"Found Vijay\")\n",
    "else:\n",
    "    print(\"Vijay not found\")"
   ]
  },
  {
   "cell_type": "code",
   "execution_count": 4,
   "metadata": {},
   "outputs": [
    {
     "name": "stdout",
     "output_type": "stream",
     "text": [
      "You can enter\n",
      "Move ON\n"
     ]
    }
   ],
   "source": [
    "age = 19\n",
    "if age > 18:\n",
    "    print(\"You can enter\")\n",
    "print(\"Move ON\")"
   ]
  },
  {
   "cell_type": "code",
   "execution_count": 5,
   "metadata": {},
   "outputs": [
    {
     "name": "stdout",
     "output_type": "stream",
     "text": [
      "Go see Pink Floyd\n",
      "Move ON\n"
     ]
    }
   ],
   "source": [
    "age = 18\n",
    "if age > 18:\n",
    "    print(\"You can enter\")\n",
    "elif age == 18:\n",
    "    print(\"Go see Pink Floyd\")\n",
    "else:\n",
    "    print(\"Go see Meat Loaf\")\n",
    "    \n",
    "print(\"Move ON\")"
   ]
  },
  {
   "cell_type": "code",
   "execution_count": 6,
   "metadata": {},
   "outputs": [
    {
     "name": "stdout",
     "output_type": "stream",
     "text": [
      "Do something\n"
     ]
    }
   ],
   "source": [
    "album_year = 1983\n",
    "album_year = 1970\n",
    "if album_year > 1980:\n",
    "    print(\"Album year is greater than 1980\")\n",
    "print(\"Do something\")"
   ]
  },
  {
   "cell_type": "code",
   "execution_count": 7,
   "metadata": {},
   "outputs": [
    {
     "name": "stdout",
     "output_type": "stream",
     "text": [
      "Album year in between 1980 and 1989\n",
      " \n",
      "Do stuff\n"
     ]
    }
   ],
   "source": [
    "album_year = 1980\n",
    "if (album_year > 1979) and (album_year < 1990):\n",
    "    print(\"Album year in between 1980 and 1989\")\n",
    "print(\" \")\n",
    "print(\"Do stuff\")"
   ]
  },
  {
   "cell_type": "code",
   "execution_count": 10,
   "metadata": {},
   "outputs": [
    {
     "name": "stdout",
     "output_type": "stream",
     "text": [
      "It was True!\n"
     ]
    }
   ],
   "source": [
    "if True:\n",
    "    print(\"It was True!\")"
   ]
  },
  {
   "cell_type": "code",
   "execution_count": 11,
   "metadata": {},
   "outputs": [
    {
     "name": "stdout",
     "output_type": "stream",
     "text": [
      "I will be printed in any case where x is not true\n"
     ]
    }
   ],
   "source": [
    "x = False\n",
    "if x:\n",
    "    print(\"x was true!\")\n",
    "else:\n",
    "    print(\"I will be printed in any case where x is not true\")\n",
    "    "
   ]
  },
  {
   "cell_type": "code",
   "execution_count": 12,
   "metadata": {},
   "outputs": [
    {
     "name": "stdout",
     "output_type": "stream",
     "text": [
      "Welcome Sammy\n"
     ]
    }
   ],
   "source": [
    "person = \"Sammy\"\n",
    "if person == \"Sammy\":\n",
    "    print(\"Welcome Sammy\")\n",
    "else:\n",
    "    print(\"Welcome, Whats your name?\")"
   ]
  },
  {
   "cell_type": "code",
   "execution_count": 13,
   "metadata": {},
   "outputs": [
    {
     "name": "stdout",
     "output_type": "stream",
     "text": [
      "Welcome to the Bank!\n"
     ]
    }
   ],
   "source": [
    "loc = \"Bank\"\n",
    "if loc == \"Auto Shop\":\n",
    "    print(\"Welcome to Auto Shop!\")\n",
    "elif loc == \"Bank\":\n",
    "    print(\"Welcome to the Bank!\")\n",
    "else:\n",
    "    print(\"Where are you!\")\n"
   ]
  },
  {
   "cell_type": "code",
   "execution_count": null,
   "metadata": {},
   "outputs": [],
   "source": []
  }
 ],
 "metadata": {
  "kernelspec": {
   "display_name": "Python 3",
   "language": "python",
   "name": "python3"
  },
  "language_info": {
   "codemirror_mode": {
    "name": "ipython",
    "version": 3
   },
   "file_extension": ".py",
   "mimetype": "text/x-python",
   "name": "python",
   "nbconvert_exporter": "python",
   "pygments_lexer": "ipython3",
   "version": "3.7.6"
  }
 },
 "nbformat": 4,
 "nbformat_minor": 4
}
