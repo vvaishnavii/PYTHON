{
 "cells": [
  {
   "cell_type": "markdown",
   "metadata": {},
   "source": [
    "# <center> LISTS"
   ]
  },
  {
   "cell_type": "markdown",
   "metadata": {},
   "source": [
    "a. List contains items separated by commas and enclosed with square brackets[]\n",
    "\n",
    "b. All itmes belonging to a list can be of different datatypes\n",
    "\n",
    "c. Lists are similar to arrays in C language\n",
    "\n",
    "d. Lists are mutable"
   ]
  },
  {
   "cell_type": "markdown",
   "metadata": {},
   "source": [
    "### Create LIST"
   ]
  },
  {
   "cell_type": "code",
   "execution_count": 5,
   "metadata": {},
   "outputs": [
    {
     "name": "stdout",
     "output_type": "stream",
     "text": [
      "['abcd', 786, 2.23, 'ISB', 70.2]\n",
      "abcd\n",
      "[786, 2.23]\n",
      "[2.23, 'ISB', 70.2]\n",
      "[123, 'ISB', 123, 'ISB']\n",
      "[123, 'ISB', 'abcd', 786, 2.23, 'ISB', 70.2]\n",
      "5\n"
     ]
    }
   ],
   "source": [
    "list_ = [\"abcd\", 786, 2.23, \"ISB\", 70.2]\n",
    "tiny_list = [123, \"ISB\"]\n",
    "print(list_)              # prints the list of elements\n",
    "print(list_[0])           # prints 1st elements of List\n",
    "print(list_[1:3])         # prints from 2nd element to 3rd element\n",
    "print(list_[2:])          # prints from 3rd element\n",
    "print(tiny_list*2)        # prints twice\n",
    "print(tiny_list + list_)  # adding LISTS\n",
    "print(len(list_))         # length of the list_"
   ]
  },
  {
   "cell_type": "code",
   "execution_count": 3,
   "metadata": {},
   "outputs": [
    {
     "name": "stdout",
     "output_type": "stream",
     "text": [
      "['New Guy', 'Ajay', 'Vijay', 'Ramesh', 'Sujay', 'Guy1', 'Guy2']\n",
      "5\n",
      "Guy2\n",
      "['New Guy', 'Ajay', 'Vijay', 'Ramesh', 'Sujay']\n"
     ]
    }
   ],
   "source": [
    "list_a = [\"Ajay\", \"Vijay\", \"Ramesh\"]\n",
    "list_a.append(\"Sujay\")\n",
    "list_a.insert(0,\"New Guy\")\n",
    "list_a.extend([\"Guy1\",\"Guy2\"])  #insert Guy1 Guy2\n",
    "print(list_a)\n",
    "print(list_a.index(\"Guy1\"))\n",
    "list_a.remove(\"Guy1\")\n",
    "print(list_a.pop())\n",
    "print(list_a)"
   ]
  },
  {
   "cell_type": "markdown",
   "metadata": {},
   "source": [
    "### Sorting"
   ]
  },
  {
   "cell_type": "code",
   "execution_count": 6,
   "metadata": {},
   "outputs": [
    {
     "name": "stdout",
     "output_type": "stream",
     "text": [
      "[1, 1, 2, 5, 23, 23, 34, 54, 54, 54, 76, 76, 87]\n",
      "87\n",
      "1\n"
     ]
    }
   ],
   "source": [
    "numList = [1,5,23,1,54,2,54,23,54,76,76,34,87]\n",
    "numList.sort()     # Sorting from ascending Order\n",
    "print(numList)\n",
    "print(max(numList))# print maximum in the List\n",
    "print(min(numList))# print minimum in the List\n"
   ]
  },
  {
   "cell_type": "code",
   "execution_count": 7,
   "metadata": {},
   "outputs": [
    {
     "data": {
      "text/plain": [
       "4"
      ]
     },
     "execution_count": 7,
     "metadata": {},
     "output_type": "execute_result"
    }
   ],
   "source": [
    "my_list = [\"A string \", 23, 100.23, \"0\"]\n",
    "len(my_list)"
   ]
  },
  {
   "cell_type": "markdown",
   "metadata": {},
   "source": [
    "## LIST COMPREHENIONS"
   ]
  },
  {
   "cell_type": "markdown",
   "metadata": {},
   "source": [
    "a. Python has an advanced features called \"List Comprehensions\"\n",
    "\n",
    "b. They allow for quick construction of Lists\n",
    "\n",
    "c. It consists of brackets containing an expression followed by a for clause, then zero (or) more for (or) if clause\n"
   ]
  },
  {
   "cell_type": "code",
   "execution_count": 22,
   "metadata": {},
   "outputs": [
    {
     "data": {
      "text/plain": [
       "[1, 4, 9, 16, 25, 36, 49]"
      ]
     },
     "execution_count": 22,
     "metadata": {},
     "output_type": "execute_result"
    }
   ],
   "source": [
    "#Square nos in the list\n",
    "lst = [1,2,3,4,5,6,7]\n",
    "B = [i*i for i in lst]\n",
    "B"
   ]
  },
  {
   "cell_type": "code",
   "execution_count": 23,
   "metadata": {},
   "outputs": [
    {
     "data": {
      "text/plain": [
       "[0, 1, 4, 9, 16, 25, 36, 49, 64, 81, 100]"
      ]
     },
     "execution_count": 23,
     "metadata": {},
     "output_type": "execute_result"
    }
   ],
   "source": [
    "#Square nos in range and turn into list\n",
    "C = [x**2 for x in range(0,11)]\n",
    "C"
   ]
  },
  {
   "cell_type": "code",
   "execution_count": 24,
   "metadata": {},
   "outputs": [
    {
     "data": {
      "text/plain": [
       "[0, 2, 4, 6, 8, 10]"
      ]
     },
     "execution_count": 24,
     "metadata": {},
     "output_type": "execute_result"
    }
   ],
   "source": [
    "# Check the even nos in a range\n",
    "D = [x for x in range(11) if x % 2 == 0]\n",
    "D"
   ]
  },
  {
   "cell_type": "code",
   "execution_count": 25,
   "metadata": {},
   "outputs": [
    {
     "data": {
      "text/plain": [
       "[32.0, 50.0, 68.18, 94.1]"
      ]
     },
     "execution_count": 25,
     "metadata": {},
     "output_type": "execute_result"
    }
   ],
   "source": [
    "#celsius to Fahrenhit\n",
    "Celsius = [0, 10, 20.1, 34.5]\n",
    "Fahrenhit = [((9/5)*temp + 32) for temp in Celsius ]\n",
    "Fahrenhit"
   ]
  },
  {
   "cell_type": "markdown",
   "metadata": {},
   "source": [
    "## NOTE: \n",
    "Methods for LIST are:\n",
    "1. Append\n",
    "2. Count\n",
    "3. Extend\n",
    "4. Insert\n",
    "5. Pop\n",
    "6. Remove\n",
    "7. Reverse\n",
    "8. Sort\n"
   ]
  },
  {
   "cell_type": "code",
   "execution_count": null,
   "metadata": {},
   "outputs": [],
   "source": []
  }
 ],
 "metadata": {
  "kernelspec": {
   "display_name": "Python 3",
   "language": "python",
   "name": "python3"
  },
  "language_info": {
   "codemirror_mode": {
    "name": "ipython",
    "version": 3
   },
   "file_extension": ".py",
   "mimetype": "text/x-python",
   "name": "python",
   "nbconvert_exporter": "python",
   "pygments_lexer": "ipython3",
   "version": "3.7.6"
  }
 },
 "nbformat": 4,
 "nbformat_minor": 4
}
