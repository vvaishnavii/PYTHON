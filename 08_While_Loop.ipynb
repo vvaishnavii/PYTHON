{
 "cells": [
  {
   "cell_type": "markdown",
   "metadata": {},
   "source": [
    "# <center> WHILE Statement"
   ]
  },
  {
   "cell_type": "code",
   "execution_count": 1,
   "metadata": {},
   "outputs": [
    {
     "name": "stdout",
     "output_type": "stream",
     "text": [
      "1982\n",
      "1967\n",
      "1973\n",
      "It took 3 repetitions to get out of the loop\n"
     ]
    }
   ],
   "source": [
    "dates = [1982,1967,1973,2000]\n",
    "i = 0\n",
    "year = 0\n",
    "\n",
    "while (year != 1973):\n",
    "    year = dates[i]\n",
    "    i = i + 1\n",
    "    print(year)\n",
    "    \n",
    "print(\"It took\", i, \"repetitions to get out of the loop\")"
   ]
  },
  {
   "cell_type": "code",
   "execution_count": 2,
   "metadata": {},
   "outputs": [
    {
     "name": "stdout",
     "output_type": "stream",
     "text": [
      "The count is: 0\n",
      "The count is: 1\n",
      "The count is: 2\n",
      "The count is: 3\n",
      "The count is: 4\n",
      "The count is: 5\n",
      "The count is: 6\n",
      "The count is: 7\n",
      "The count is: 8\n",
      "End of the loop\n"
     ]
    }
   ],
   "source": [
    "count = 0\n",
    "while (count < 9):\n",
    "    print(\"The count is:\", count)\n",
    "    count = count + 1\n",
    "print(\"End of the loop\")"
   ]
  },
  {
   "cell_type": "code",
   "execution_count": 3,
   "metadata": {},
   "outputs": [
    {
     "name": "stdout",
     "output_type": "stream",
     "text": [
      "x is currently: 0\n",
      "x is still less than 10, adding 1 to x\n",
      "x is currently: 1\n",
      "x is still less than 10, adding 1 to x\n",
      "x is currently: 2\n",
      "x is still less than 10, adding 1 to x\n",
      "x is currently: 3\n",
      "x is still less than 10, adding 1 to x\n",
      "x is currently: 4\n",
      "x is still less than 10, adding 1 to x\n",
      "x is currently: 5\n",
      "x is still less than 10, adding 1 to x\n",
      "x is currently: 6\n",
      "x is still less than 10, adding 1 to x\n",
      "x is currently: 7\n",
      "x is still less than 10, adding 1 to x\n",
      "x is currently: 8\n",
      "x is still less than 10, adding 1 to x\n",
      "x is currently: 9\n",
      "x is still less than 10, adding 1 to x\n"
     ]
    }
   ],
   "source": [
    "x = 0\n",
    "while x < 10:\n",
    "    print(\"x is currently:\", x)\n",
    "    print(\"x is still less than 10, adding 1 to x\")\n",
    "    x += 1\n"
   ]
  },
  {
   "cell_type": "markdown",
   "metadata": {},
   "source": [
    "## BREAK,CONTINUE and PASS Statements"
   ]
  },
  {
   "cell_type": "markdown",
   "metadata": {},
   "source": [
    "#### Break : \n",
    "Breaks out of the current closests enclosing loop\n",
    "#### Continue:\n",
    "Goes to the top of the closest enclosing loop\n",
    "#### Pass:\n",
    "Does nothing at all"
   ]
  },
  {
   "cell_type": "code",
   "execution_count": 5,
   "metadata": {},
   "outputs": [
    {
     "name": "stdout",
     "output_type": "stream",
     "text": [
      "x is less than 1, adding 1 to x\n",
      "Continuing..\n",
      "x is less than 1, adding 1 to x\n",
      "Continuing..\n",
      "x is less than 1, adding 1 to x\n",
      "x == 3\n",
      "x is less than 1, adding 1 to x\n",
      "Continuing..\n",
      "x is less than 1, adding 1 to x\n",
      "Continuing..\n",
      "x is less than 1, adding 1 to x\n",
      "Continuing..\n",
      "x is less than 1, adding 1 to x\n",
      "Continuing..\n",
      "x is less than 1, adding 1 to x\n",
      "Continuing..\n",
      "x is less than 1, adding 1 to x\n",
      "Continuing..\n",
      "x is less than 1, adding 1 to x\n",
      "Continuing..\n"
     ]
    }
   ],
   "source": [
    "x = 0\n",
    "while x < 10:\n",
    "    print(\"x is less than 1, adding 1 to x\")\n",
    "    x += 1\n",
    "    if x == 3:\n",
    "        print(\"x == 3\")\n",
    "    else:\n",
    "        print(\"Continuing..\")\n",
    "        continue"
   ]
  },
  {
   "cell_type": "code",
   "execution_count": null,
   "metadata": {},
   "outputs": [],
   "source": []
  }
 ],
 "metadata": {
  "kernelspec": {
   "display_name": "Python 3",
   "language": "python",
   "name": "python3"
  },
  "language_info": {
   "codemirror_mode": {
    "name": "ipython",
    "version": 3
   },
   "file_extension": ".py",
   "mimetype": "text/x-python",
   "name": "python",
   "nbconvert_exporter": "python",
   "pygments_lexer": "ipython3",
   "version": "3.7.6"
  }
 },
 "nbformat": 4,
 "nbformat_minor": 4
}
